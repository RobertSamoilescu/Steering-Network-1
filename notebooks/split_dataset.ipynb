{
 "cells": [
  {
   "cell_type": "code",
   "execution_count": null,
   "metadata": {},
   "outputs": [],
   "source": [
    "import os\n",
    "import pandas as pd"
   ]
  },
  {
   "cell_type": "code",
   "execution_count": null,
   "metadata": {},
   "outputs": [],
   "source": [
    "with open(\"../../scene_splits/train_scenes.txt\", \"rt\") as fin:\n",
    "    train_scenes = fin.read()\n",
    "\n",
    "with open(\"../../scene_splits/test_scenes.txt\", \"rt\") as fin:\n",
    "    test_scenes = fin.read()\n",
    "    \n",
    "train_scenes = set(train_scenes.split(\"\\n\"))\n",
    "test_scenes = set(test_scenes.split(\"\\n\"))\n",
    "\n",
    "train_files = []\n",
    "test_files = []\n",
    "\n",
    "files = os.listdir(\"../dataset/img_real\")\n",
    "\n",
    "for file in files:\n",
    "    scene, _, _ = file.split(\".\")\n",
    "    \n",
    "    if scene in train_scenes:\n",
    "        train_files.append(file[:-4])\n",
    "    else:\n",
    "        test_files.append(file[:-4])\n",
    "\n",
    "# save as csv\n",
    "train_csv = pd.DataFrame(train_files, columns=[\"name\"])\n",
    "test_csv = pd.DataFrame(test_files, columns=[\"name\"])\n",
    "\n",
    "train_csv.to_csv(\"../dataset/train_real.csv\", index=False)\n",
    "test_csv.to_csv(\"../dataset/test_real.csv\", index=False)"
   ]
  },
  {
   "cell_type": "code",
   "execution_count": null,
   "metadata": {},
   "outputs": [],
   "source": [
    "train_csv = pd.read_csv(\"../dataset/train_real.csv\")\n",
    "test_csv = pd.read_csv(\"../dataset/test_real.csv\")"
   ]
  },
  {
   "cell_type": "code",
   "execution_count": null,
   "metadata": {},
   "outputs": [],
   "source": []
  },
  {
   "cell_type": "code",
   "execution_count": null,
   "metadata": {},
   "outputs": [],
   "source": []
  }
 ],
 "metadata": {
  "kernelspec": {
   "display_name": "Python 3",
   "language": "python",
   "name": "python3"
  },
  "language_info": {
   "codemirror_mode": {
    "name": "ipython",
    "version": 3
   },
   "file_extension": ".py",
   "mimetype": "text/x-python",
   "name": "python",
   "nbconvert_exporter": "python",
   "pygments_lexer": "ipython3",
   "version": "3.6.8"
  }
 },
 "nbformat": 4,
 "nbformat_minor": 2
}
